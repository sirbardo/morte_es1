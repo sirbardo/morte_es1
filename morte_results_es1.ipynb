{
 "cells": [
  {
   "cell_type": "code",
   "execution_count": 55,
   "metadata": {},
   "outputs": [
    {
     "name": "stdout",
     "output_type": "stream",
     "text": [
      "13.55739688873291\n",
      "31.375142574310303\n"
     ]
    }
   ],
   "source": [
    "import torch\n",
    "import numpy as np\n",
    "from time import time\n",
    "from matplotlib import pyplot as plt\n",
    "\n",
    "n = 10**8\n",
    "\n",
    "start = time()\n",
    "array_1 = np.zeros(n, dtype='object')\n",
    "array_2 = torch.tensor(np.random.randint(0, 65535, n, dtype='int32'), dtype=torch.int16, device='cuda:0')\n",
    "array_1 = array_1[torch.argsort(array_2).cpu()];\n",
    "print(time()-start)\n",
    "\n",
    "start = time()\n",
    "array_1 = np.zeros(n, dtype='object')\n",
    "array_2 = np.random.randint(0, 65535, n, dtype='int32')\n",
    "array_1[np.argsort(array_2)]\n",
    "print(time()-start)"
   ]
  },
  {
   "cell_type": "code",
   "execution_count": 56,
   "metadata": {},
   "outputs": [],
   "source": [
    "n_base = 10\n",
    "times_torch = []\n",
    "times_numpy = []\n",
    "for i in range(1, 8):\n",
    "    n = n_base**i\n",
    "    start = time()\n",
    "    array_1 = np.zeros(n, dtype='object')\n",
    "    array_2 = torch.tensor(np.random.randint(0, 65535, n, dtype='int32'), dtype=torch.int16, device='cuda:0')\n",
    "    array_1 = array_1[torch.argsort(array_2).cpu()];\n",
    "    computation_time = time()-start\n",
    "    times_torch += [computation_time]\n",
    "    \n",
    "    start = time()\n",
    "    array_1 = np.zeros(n, dtype='object')\n",
    "    array_2 = np.random.randint(0, 65535, n, dtype='int32')\n",
    "    array_1[np.argsort(array_2)]\n",
    "    computation_time = time()-start\n",
    "    times_numpy += [computation_time]\n"
   ]
  },
  {
   "cell_type": "code",
   "execution_count": 57,
   "metadata": {},
   "outputs": [
    {
     "data": {
      "text/plain": [
       "[0.2787168025970459,\n",
       " 0.0001380443572998047,\n",
       " 0.00017070770263671875,\n",
       " 0.0005941390991210938,\n",
       " 0.0031919479370117188,\n",
       " 0.04748344421386719,\n",
       " 1.1758379936218262]"
      ]
     },
     "execution_count": 57,
     "metadata": {},
     "output_type": "execute_result"
    }
   ],
   "source": [
    "times_torch"
   ]
  },
  {
   "cell_type": "code",
   "execution_count": 58,
   "metadata": {},
   "outputs": [
    {
     "data": {
      "text/plain": [
       "[4.291534423828125e-05,\n",
       " 2.0503997802734375e-05,\n",
       " 6.079673767089844e-05,\n",
       " 0.0006215572357177734,\n",
       " 0.008217096328735352,\n",
       " 0.12479329109191895,\n",
       " 2.2913880348205566]"
      ]
     },
     "execution_count": 58,
     "metadata": {},
     "output_type": "execute_result"
    }
   ],
   "source": [
    "times_numpy"
   ]
  },
  {
   "cell_type": "code",
   "execution_count": 59,
   "metadata": {},
   "outputs": [
    {
     "data": {
      "text/plain": [
       "[<matplotlib.lines.Line2D at 0x7fc1b34a0ef0>]"
      ]
     },
     "execution_count": 59,
     "metadata": {},
     "output_type": "execute_result"
    },
    {
     "data": {
      "image/png": "[encoded data removed]",
      "text/plain": [
       "<Figure size 432x288 with 1 Axes>"
      ]
     },
     "metadata": {
      "needs_background": "light"
     },
     "output_type": "display_data"
    }
   ],
   "source": [
    "plt.plot(times_torch)\n",
    "plt.plot(times_numpy)"
   ]
  },
  {
   "cell_type": "code",
   "execution_count": null,
   "metadata": {},
   "outputs": [],
   "source": []
  }
 ],
 "metadata": {
  "kernelspec": {
   "display_name": "Python 3",
   "language": "python",
   "name": "python3"
  },
  "language_info": {
   "codemirror_mode": {
    "name": "ipython",
    "version": 3
   },
   "file_extension": ".py",
   "mimetype": "text/x-python",
   "name": "python",
   "nbconvert_exporter": "python",
   "pygments_lexer": "ipython3",
   "version": "3.7.2"
  }
 },
 "nbformat": 4,
 "nbformat_minor": 2
}
