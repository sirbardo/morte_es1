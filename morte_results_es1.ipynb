{
 "cells": [
  {
   "cell_type": "code",
   "execution_count": null,
   "metadata": {},
   "outputs": [
    {
     "name": "stdout",
     "output_type": "stream",
     "text": [
      "13.55739688873291\n"
     ]
    }
   ],
   "source": [
    "import torch\n",
    "import numpy as np\n",
    "from time import time\n",
    "from matplotlib import pyplot as plt\n",
    "\n",
    "n = 10**8\n",
    "\n",
    "start = time()\n",
    "array_1 = np.zeros(n, dtype='object')\n",
    "array_2 = torch.tensor(np.random.randint(0, 65535, n, dtype='int32'), dtype=torch.int16, device='cuda:0')\n",
    "array_1 = array_1[torch.argsort(array_2).cpu()];\n",
    "print(time()-start)\n",
    "\n",
    "start = time()\n",
    "array_1 = np.zeros(n, dtype='object')\n",
    "array_2 = np.random.randint(0, 65535, n, dtype='int32')\n",
    "array_1[np.argsort(array_2)]\n",
    "print(time()-start)"
   ]
  },
  {
   "cell_type": "code",
   "execution_count": null,
   "metadata": {},
   "outputs": [],
   "source": [
    "n_base = 10\n",
    "times_torch = []\n",
    "times_numpy = []\n",
    "for i in range(1, 8):\n",
    "    n = n_base**i\n",
    "    start = time()\n",
    "    array_1 = np.zeros(n, dtype='object')\n",
    "    array_2 = torch.tensor(np.random.randint(0, 65535, n, dtype='int32'), dtype=torch.int16, device='cuda:0')\n",
    "    array_1 = array_1[torch.argsort(array_2).cpu()];\n",
    "    computation_time = time()-start\n",
    "    times_torch += [computation_time]\n",
    "    \n",
    "    start = time()\n",
    "    array_1 = np.zeros(n, dtype='object')\n",
    "    array_2 = np.random.randint(0, 65535, n, dtype='int32')\n",
    "    array_1[np.argsort(array_2)]\n",
    "    computation_time = time()-start\n",
    "    times_numpy += [computation_time]\n"
   ]
  },
  {
   "cell_type": "code",
   "execution_count": null,
   "metadata": {},
   "outputs": [],
   "source": [
    "times_torch"
   ]
  },
  {
   "cell_type": "code",
   "execution_count": null,
   "metadata": {},
   "outputs": [],
   "source": [
    "times_numpy"
   ]
  },
  {
   "cell_type": "code",
   "execution_count": null,
   "metadata": {},
   "outputs": [],
   "source": [
    "plt.plot(times_torch)\n",
    "plt.plot(times_numpy)"
   ]
  },
  {
   "cell_type": "code",
   "execution_count": null,
   "metadata": {},
   "outputs": [],
   "source": []
  }
 ],
 "metadata": {
  "kernelspec": {
   "display_name": "Python 3",
   "language": "python",
   "name": "python3"
  },
  "language_info": {
   "codemirror_mode": {
    "name": "ipython",
    "version": 3
   },
   "file_extension": ".py",
   "mimetype": "text/x-python",
   "name": "python",
   "nbconvert_exporter": "python",
   "pygments_lexer": "ipython3",
   "version": "3.7.2"
  }
 },
 "nbformat": 4,
 "nbformat_minor": 2
}
